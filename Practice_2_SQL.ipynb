{
  "nbformat": 4,
  "nbformat_minor": 0,
  "metadata": {
    "colab": {
      "name": "Practice_2_SQL.ipynb",
      "provenance": [],
      "authorship_tag": "ABX9TyMXyETMToBYQDNw3pwxA/7F"
    },
    "kernelspec": {
      "name": "python3",
      "display_name": "Python 3"
    },
    "language_info": {
      "name": "python"
    }
  },
  "cells": [
    {
      "cell_type": "markdown",
      "source": [
        "# NSS Tutorial"
      ],
      "metadata": {
        "id": "0zLm_q9pEDio"
      }
    },
    {
      "cell_type": "markdown",
      "source": [
        "**Show the the percentage who STRONGLY AGREE**"
      ],
      "metadata": {
        "id": "Hw69Cvx9EJ0w"
      }
    },
    {
      "cell_type": "code",
      "source": [
        "SELECT A_STRONGLY_AGREE\n",
        "  FROM nss\n",
        " WHERE question='Q01'\n",
        "   AND institution='Edinburgh Napier University'\n",
        "   AND subject='(8) Computer Science'"
      ],
      "metadata": {
        "id": "dy1FcbLBEHi7"
      },
      "execution_count": null,
      "outputs": []
    },
    {
      "cell_type": "markdown",
      "source": [
        "**Show the institution and subject where the score is at least 100 for question 15.**"
      ],
      "metadata": {
        "id": "BElXCDOBEQQy"
      }
    },
    {
      "cell_type": "code",
      "source": [
        "SELECT institution, subject\n",
        "  FROM nss\n",
        " WHERE score >= 100 AND \n",
        "       question = 'Q15'\n",
        "  "
      ],
      "metadata": {
        "id": "JKRyZB-BETd3"
      },
      "execution_count": null,
      "outputs": []
    },
    {
      "cell_type": "markdown",
      "source": [
        "**Show the institution and score where the score for '(8) Computer Science' is less than 50 for question 'Q15'**"
      ],
      "metadata": {
        "id": "6ccELKTYE9_-"
      }
    },
    {
      "cell_type": "code",
      "source": [
        "SELECT institution, score\n",
        "FROM nss\n",
        "WHERE question='Q15' AND \n",
        "      score < 50 AND \n",
        "      subject = '(8) Computer Science'"
      ],
      "metadata": {
        "id": "P5E-WkxEFB2O"
      },
      "execution_count": null,
      "outputs": []
    },
    {
      "cell_type": "markdown",
      "source": [
        "**Show the subject and total number of students who responded to question 22 for each of the subjects '(8) Computer Science' and '(H) Creative Arts and Design'**"
      ],
      "metadata": {
        "id": "Ks4U4nHfFnHh"
      }
    },
    {
      "cell_type": "code",
      "source": [
        "SELECT subject, SUM((A_STRONGLY_AGREE * response)/100)\n",
        "FROM nss\n",
        "WHERE question='Q22'AND\n",
        "      subject IN ('(8) Computer Science',\n",
        "                    '(H) Creative Arts and Design')\n",
        "GROUP BY subject"
      ],
      "metadata": {
        "id": "nNCU1IQRFrDi"
      },
      "execution_count": null,
      "outputs": []
    },
    {
      "cell_type": "markdown",
      "source": [
        "**Show the subject and total number of students who A_STRONGLY_AGREE to question 22 for each of the subjects '(8) Computer Science' and '(H) Creative Arts and Design**"
      ],
      "metadata": {
        "id": "ei4xW8HUmqMr"
      }
    },
    {
      "cell_type": "code",
      "source": [
        "SELECT subject, SUM((A_STRONGLY_AGREE*response)/100) \n",
        "FROM nss\n",
        "WHERE question = 'Q22' AND \n",
        "      subject IN ('(8) Computer Science','(H) Creative Arts and Design')\n",
        "GROUP BY subject"
      ],
      "metadata": {
        "id": "6TBvf9k_mp4H"
      },
      "execution_count": null,
      "outputs": []
    },
    {
      "cell_type": "markdown",
      "source": [
        "**Show the percentage of students who A_STRONGLY_AGREE to question 22 for the subject '(8) Computer Science' show the same figure for the subject '(H) Creative Arts and Design'**"
      ],
      "metadata": {
        "id": "BKpNWdNiY1Js"
      }
    },
    {
      "cell_type": "code",
      "source": [
        "SELECT subject,ROUND((SUM((A_STRONGLY_AGREE * response)/100) * 100)/SUM(response),0)\n",
        "FROM nss\n",
        "WHERE question = 'Q22' AND\n",
        "subject IN ('(8) Computer Science','(H) Creative Arts and Design')\n",
        "GROUP BY subject"
      ],
      "metadata": {
        "id": "IYxw7WygYzv5"
      },
      "execution_count": null,
      "outputs": []
    },
    {
      "cell_type": "markdown",
      "source": [
        "**Show the average scores for question 'Q22' for each institution that include 'Manchester' in the name.**"
      ],
      "metadata": {
        "id": "3j2S8YKaY5kF"
      }
    },
    {
      "cell_type": "code",
      "source": [
        ""
      ],
      "metadata": {
        "id": "m1G9_Y8ZY8QO"
      },
      "execution_count": null,
      "outputs": []
    },
    {
      "cell_type": "markdown",
      "source": [
        "**Show the institution, the total sample size and the number of computing students for institutions in Manchester for 'Q01'**"
      ],
      "metadata": {
        "id": "7178IZdOlFWZ"
      }
    },
    {
      "cell_type": "code",
      "source": [
        "SELECT institution, SUM(sample), SUM(CASE WHEN subject = '(8) Computer Science' THEN sample ELSE 0 END) as comp\n",
        "FROM nss\n",
        "WHERE question = 'Q01' AND \n",
        "      institution LIKE '%Manchester%'\n",
        "GROUP BY institution"
      ],
      "metadata": {
        "id": "G66XiuDzlGZD"
      },
      "execution_count": null,
      "outputs": []
    }
  ]
}