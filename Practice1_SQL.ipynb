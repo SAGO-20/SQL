{
  "nbformat": 4,
  "nbformat_minor": 0,
  "metadata": {
    "colab": {
      "name": "Practice_SQL.ipynb",
      "provenance": [],
      "authorship_tag": "ABX9TyOUz3BBqZS6zyz9THJ5CZRX",
      "include_colab_link": true
    },
    "kernelspec": {
      "name": "python3",
      "display_name": "Python 3"
    },
    "language_info": {
      "name": "python"
    }
  },
  "cells": [
    {
      "cell_type": "markdown",
      "metadata": {
        "id": "view-in-github",
        "colab_type": "text"
      },
      "source": [
        "<a href=\"https://colab.research.google.com/github/SAGO-20/SQL/blob/main/Practice1_SQL.ipynb\" target=\"_parent\"><img src=\"https://colab.research.google.com/assets/colab-badge.svg\" alt=\"Open In Colab\"/></a>"
      ]
    },
    {
      "cell_type": "markdown",
      "source": [
        "I am using SQLZOO for practice.([Exercise](https://sqlzoo.net/wiki/More_JOIN_operations)).\n",
        "\n",
        "I will be using Movie Database.([Database](https://sqlzoo.net/wiki/More_details_about_the_database.))\n"
      ],
      "metadata": {
        "id": "hEcj8N8EcFh3"
      }
    },
    {
      "cell_type": "code",
      "source": [
        "#List the films where the yr is 1962 [Show id, title]\n",
        "SELECT id, title\n",
        "FROM movie\n",
        "WHERE yr = 1962"
      ],
      "metadata": {
        "id": "RDU4r2ITdomG"
      },
      "execution_count": null,
      "outputs": []
    },
    {
      "cell_type": "code",
      "source": [
        "# When was Citizen Kane released?\n",
        "SELECT yr \n",
        "FROM movie \n",
        "WHERE title = 'Citizen Kane'"
      ],
      "metadata": {
        "id": "xRIN5JmPd1N9"
      },
      "execution_count": null,
      "outputs": []
    },
    {
      "cell_type": "code",
      "source": [
        "# List all of the Star Trek movies, include the id, title and yr \n",
        "# (all of these movies include the words Star Trek in the title). Order results by year.\n",
        "SELECT id, title, yr\n",
        "FROM movie\n",
        "WHERE title LIKE '%Star Trek%'\n",
        "ORDER BY yr"
      ],
      "metadata": {
        "id": "sTEjVZ9meCCx"
      },
      "execution_count": null,
      "outputs": []
    },
    {
      "cell_type": "code",
      "source": [
        "# id for actor Glenn Close\n",
        "SELECT id\n",
        "FROM actor\n",
        "WHERE name = 'Glenn Close'"
      ],
      "metadata": {
        "id": "MJK2uyNglTIu"
      },
      "execution_count": null,
      "outputs": []
    },
    {
      "cell_type": "code",
      "source": [
        "# What is the id of the film 'Casablanca'\n",
        "SELECT id\n",
        "FROM movie\n",
        "WHERE title = 'Casablanca'"
      ],
      "metadata": {
        "id": "BPyoV3nplpmo"
      },
      "execution_count": null,
      "outputs": []
    },
    {
      "cell_type": "code",
      "source": [
        ""
      ],
      "metadata": {
        "id": "gCp2B9-5metA"
      },
      "execution_count": null,
      "outputs": []
    }
  ]
}