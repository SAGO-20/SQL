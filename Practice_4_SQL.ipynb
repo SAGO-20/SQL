{
  "nbformat": 4,
  "nbformat_minor": 0,
  "metadata": {
    "colab": {
      "name": "Practice_4_SQL.ipynb",
      "provenance": [],
      "collapsed_sections": [],
      "authorship_tag": "ABX9TyPHWC9/ci/yCn7e7Pk+3uJb",
      "include_colab_link": true
    },
    "kernelspec": {
      "name": "python3",
      "display_name": "Python 3"
    },
    "language_info": {
      "name": "python"
    }
  },
  "cells": [
    {
      "cell_type": "markdown",
      "metadata": {
        "id": "view-in-github",
        "colab_type": "text"
      },
      "source": [
        "<a href=\"https://colab.research.google.com/github/SAGO-20/SQL/blob/main/Practice_4_SQL.ipynb\" target=\"_parent\"><img src=\"https://colab.research.google.com/assets/colab-badge.svg\" alt=\"Open In Colab\"/></a>"
      ]
    },
    {
      "cell_type": "markdown",
      "source": [
        "# EDINBURGH BUS ROUTE\n",
        "\n",
        "[Source](https://sqlzoo.net/wiki/Self_join)"
      ],
      "metadata": {
        "id": "AtUqj_4SdS1D"
      }
    },
    {
      "cell_type": "markdown",
      "source": [
        "**How many stops are in the database**"
      ],
      "metadata": {
        "id": "CjI6BO-ldXpq"
      }
    },
    {
      "cell_type": "code",
      "source": [
        "SELECT COUNT(id)\n",
        "FROM stops"
      ],
      "metadata": {
        "id": "F3564D2qdWA_"
      },
      "execution_count": null,
      "outputs": []
    },
    {
      "cell_type": "markdown",
      "source": [
        "**Find the id value for the stop 'Craiglockhart'**"
      ],
      "metadata": {
        "id": "zlQ970zNdoqd"
      }
    },
    {
      "cell_type": "code",
      "source": [
        "SELECT id\n",
        "FROM stops\n",
        "WHERE name = 'Craiglockhart'"
      ],
      "metadata": {
        "id": "gyb7GqLkdsAK"
      },
      "execution_count": null,
      "outputs": []
    },
    {
      "cell_type": "markdown",
      "source": [
        "**Give the id and the name for the stops on the '4' 'LRT' service**"
      ],
      "metadata": {
        "id": "7eWpF0BEeCct"
      }
    },
    {
      "cell_type": "code",
      "source": [
        "SELECT id, name\n",
        "FROM stops\n",
        "JOIN route\n",
        "ON stops.id = route.stop\n",
        "WHERE num = '4' AND company = 'LRT'"
      ],
      "metadata": {
        "id": "0AJxQmKaeJnC"
      },
      "execution_count": null,
      "outputs": []
    },
    {
      "cell_type": "markdown",
      "source": [
        "**The query shown gives the number of routes that visit either London Road (149) or Craiglockhart (53). Run the query and notice the two services that link these stops have a count of 2. Add a HAVING clause to restrict the output to these two routes**"
      ],
      "metadata": {
        "id": "iR1-iuOUfLx7"
      }
    },
    {
      "cell_type": "code",
      "source": [
        "SELECT company, num, COUNT(*)\n",
        "FROM route WHERE stop=149 OR stop=53\n",
        "GROUP BY company, num\n",
        "HAVING COUNT(*) = 2"
      ],
      "metadata": {
        "id": "gSPkW6NdhScn"
      },
      "execution_count": null,
      "outputs": []
    },
    {
      "cell_type": "markdown",
      "source": [
        "**Execute the self join shown and observe that b.stop gives all the places you can get to from Craiglockhart, without changing routes. Change the query so that it shows the services from Craiglockhart to London Road.**"
      ],
      "metadata": {
        "id": "zoAwUGqz5U2A"
      }
    },
    {
      "cell_type": "code",
      "source": [
        "SELECT a.company, a.num, a.stop, b.stop\n",
        "FROM route a JOIN route b ON\n",
        "  (a.company=b.company AND a.num=b.num)\n",
        "WHERE a.stop=53 AND b.stop = 149"
      ],
      "metadata": {
        "id": "Ten2Xso55qwY"
      },
      "execution_count": null,
      "outputs": []
    },
    {
      "cell_type": "markdown",
      "source": [
        "**The query shown is similar to the previous one, however by joining two copies of the stops table we can refer to stops by name rather than by number. Change the query so that the services between 'Craiglockhart' and 'London Road' are shown.**"
      ],
      "metadata": {
        "id": "2KdWMy_D5ui1"
      }
    },
    {
      "cell_type": "code",
      "source": [
        "SELECT r1.company,r1.num,s1.name,s2.name\n",
        "FROM route as r1 JOIN route as r2 ON (r1.num = r2.num AND r1.company = r2.company)\n",
        "                 JOIN stops as s1 ON s1.id = r1.stop\n",
        "                 JOIN stops as s2 ON s2.id = r2.stop\n",
        "WHERE r1.stop = 53 AND r2.stop = 149"
      ],
      "metadata": {
        "id": "mBpTPc7z5zlx"
      },
      "execution_count": null,
      "outputs": []
    },
    {
      "cell_type": "markdown",
      "source": [
        "**Give a list of all the services which connect stops 115 and 137 ('Haymarket' and 'Leith')**"
      ],
      "metadata": {
        "id": "Heol_78T5_Wt"
      }
    },
    {
      "cell_type": "code",
      "source": [
        "SELECT DISTINCT r1.company,r1.num\n",
        "FROM route as r1 JOIN route as r2 ON (r1.num = r2.num AND r1.company = r2.company)\n",
        "WHERE r1.stop = 115 AND r2.stop = 137"
      ],
      "metadata": {
        "id": "V3pthQ6p6EFo"
      },
      "execution_count": null,
      "outputs": []
    },
    {
      "cell_type": "markdown",
      "source": [
        "**Give a list of the services which connect the stops 'Craiglockhart' and 'Tollcross'**"
      ],
      "metadata": {
        "id": "GLuxkOOz6Nqe"
      }
    },
    {
      "cell_type": "code",
      "source": [
        "SELECT r1.company, r1.num\n",
        "FROM route as r1 JOIN route as r2 ON (r1.num = r2.num AND r1.company = r2.company)\n",
        "                 JOIN stops as s1 ON s1.id = r1.stop\n",
        "                 JOIN stops as s2 ON s2.id = r2.stop\n",
        "WHERE s1.name = 'Craiglockhart' AND s2.name = 'Tollcross'"
      ],
      "metadata": {
        "id": "hGDhjLuC6Q6U"
      },
      "execution_count": null,
      "outputs": []
    },
    {
      "cell_type": "markdown",
      "source": [
        "**Give a distinct list of the stops which may be reached from 'Craiglockhart' by taking one bus, including 'Craiglockhart' itself, offered by the LRT company. Include the company and bus no. of the relevant services.**"
      ],
      "metadata": {
        "id": "ISe3ZNpK6XGo"
      }
    },
    {
      "cell_type": "code",
      "source": [
        "SELECT DISTINCT s2.name,r1.company, r1.num\n",
        "FROM route as r1 JOIN route as r2 ON r1.num = r2.num AND r1.company = r2.company\n",
        "                 JOIN stops as s1 ON s1.id = r1.stop\n",
        "                 JOIN stops as s2 ON s2.id = r2.stop\n",
        "WHERE s1.name = 'Craiglockhart' AND r1.company = 'LRT'\n"
      ],
      "metadata": {
        "id": "gKXbbMZu7Bkx"
      },
      "execution_count": null,
      "outputs": []
    },
    {
      "cell_type": "markdown",
      "source": [
        "**Find the routes involving two buses that can go from Craiglockhart to Lochend.\n",
        "Show the bus no. and company for the first bus, the name of the stop for the transfer,\n",
        "and the bus no. and company for the second bus.**"
      ],
      "metadata": {
        "id": "DIjw-vta7SlD"
      }
    },
    {
      "cell_type": "code",
      "source": [
        "SELECT C.num,C.company,C.name,L.num, L.company\n",
        "FROM\n",
        "     (SELECT r1.num, r1.company, s2.name\n",
        "      FROM route as r1 JOIN route as r2 ON (r1.num = r2.num AND r1.company = r2.company)\n",
        "                       JOIN stops as s1 ON s1.id = r1.stop\n",
        "                       JOIN stops as s2 ON s2.id = r2.stop\n",
        "      WHERE s1.name = 'Craiglockhart' AND s2.name <> 'Craiglockhart') as C\n",
        "JOIN\n",
        "    (SELECT r3.num, r3.company, s4.name\n",
        "     FROM route as r3 JOIN route as r4 ON (r3.num = r4.num AND r3.company = r4.company)\n",
        "                      JOIN stops as s3 ON s3.id = r3.stop\n",
        "                      JOIN stops as s4 ON s4.id = r4.stop\n",
        "     WHERE s3.name = 'Lochend' AND s4.name <> 'Lochend'\n",
        ") as L\n",
        "ON (C.name = L.name)"
      ],
      "metadata": {
        "id": "qTTzBf3i7VXq"
      },
      "execution_count": null,
      "outputs": []
    }
  ]
}