{
  "nbformat": 4,
  "nbformat_minor": 0,
  "metadata": {
    "colab": {
      "name": "SQL(Leet Code).ipynb",
      "provenance": [],
      "collapsed_sections": [],
      "authorship_tag": "ABX9TyP9Hdx4tBiK55wTH+vept7n"
    },
    "kernelspec": {
      "name": "python3",
      "display_name": "Python 3"
    },
    "language_info": {
      "name": "python"
    }
  },
  "cells": [
    {
      "cell_type": "markdown",
      "source": [
        "[Source](https://leetcode.com/study-plan/sql/?progress=xhkyitnr)"
      ],
      "metadata": {
        "id": "zeVDCrr_YVro"
      }
    },
    {
      "cell_type": "code",
      "source": [
        "# Big Countries\n",
        "SELECT name, population, area\n",
        "FROM World\n",
        "WHERE area >= 3000000 OR population >= 25000000;\n"
      ],
      "metadata": {
        "id": "BF8x61M6hOP9"
      },
      "execution_count": null,
      "outputs": []
    },
    {
      "cell_type": "code",
      "source": [
        "# Recyclable and Low Fat Products\n",
        "SELECT product_id \n",
        "FROM Products \n",
        "WHERE low_fats = 'Y' AND recyclable = 'Y'"
      ],
      "metadata": {
        "id": "RKhRbfhUiJj1"
      },
      "execution_count": null,
      "outputs": []
    },
    {
      "cell_type": "code",
      "source": [
        "# Find Customer Referee\n",
        "SELECT name\n",
        "FROM Customer\n",
        "WHERE referee_id != 2 OR referee_id IS NULL"
      ],
      "metadata": {
        "id": "1QmPeasCmEYz"
      },
      "execution_count": null,
      "outputs": []
    },
    {
      "cell_type": "code",
      "source": [
        "# Customers Who Never Order\n",
        "SELECT name as Customers\n",
        "FROM Customers\n",
        "WHERE id NOT IN (SELECT customerId \n",
        "            FROM Orders)"
      ],
      "metadata": {
        "id": "P5rkt_UVmtrp"
      },
      "execution_count": null,
      "outputs": []
    },
    {
      "cell_type": "code",
      "source": [
        "# Calculate Special Bonus\n",
        "SELECT employee_id,\n",
        "CASE WHEN (employee_id % 2 != 0) AND (name NOT LIKE \"M%\") THEN salary\n",
        "ELSE 0 END AS bonus\n",
        "FROM Employees\n",
        "ORDER BY employee_id\n"
      ],
      "metadata": {
        "id": "db0JgJ52n1KV"
      },
      "execution_count": null,
      "outputs": []
    },
    {
      "cell_type": "code",
      "source": [
        "# Swap Salary\n",
        "UPDATE Salary\n",
        "SET\n",
        "sex = CASE sex\n",
        "      WHEN 'm' THEN 'f'\n",
        "      ELSE 'm' END\n"
      ],
      "metadata": {
        "id": "QZkpv7_lqgzL"
      },
      "execution_count": null,
      "outputs": []
    },
    {
      "cell_type": "code",
      "source": [
        "# DELETE Duplicate Emails\n",
        "DELETE p1\n",
        "FROM Person p1\n",
        "JOIN Person p2\n",
        "ON p1.email = p2.email\n",
        "WHERE p1.id > p2.id;\n"
      ],
      "metadata": {
        "id": "NB_MdHmMspAn"
      },
      "execution_count": null,
      "outputs": []
    },
    {
      "cell_type": "code",
      "source": [
        "# Fix Names in a Table\n",
        "SELECT user_id,CONCAT(UPPER(LEFT(name,1)),LOWER(SUBSTRING(name,2,100))) AS name\n",
        "FROM Users\n",
        "ORDER BY user_id"
      ],
      "metadata": {
        "id": "5EhNwfALFvIE"
      },
      "execution_count": null,
      "outputs": []
    },
    {
      "cell_type": "code",
      "source": [
        "# Group Sold Products By The Date\n",
        "SELECT sell_date,\n",
        "COUNT(DISTINCT(product)) as num_sold,\n",
        "GROUP_CONCAT(DISTINCT(product)) as products\n",
        "FROM Activities\n",
        "GROUP BY sell_date\n",
        "ORDER BY sell_date"
      ],
      "metadata": {
        "id": "zPFe_S97FzDK"
      },
      "execution_count": null,
      "outputs": []
    },
    {
      "cell_type": "code",
      "source": [
        "# Patients With a Condition\n",
        "SELECT patient_id, patient_name, conditions\n",
        "FROM Patients\n",
        "WHERE conditions LIKE 'DIAB1%' OR conditions LIKE '% DIAB1%'"
      ],
      "metadata": {
        "id": "692H8N0mXpd7"
      },
      "execution_count": null,
      "outputs": []
    },
    {
      "cell_type": "code",
      "source": [
        "# Employees With Missing Information\n",
        "\n",
        "SELECT employee_id\n",
        "FROM Employees \n",
        "WHERE employee_id NOT IN (SELECT employee_id FROM Salaries)\n",
        "UNION\n",
        "SELECT employee_id\n",
        "FROM Salaries\n",
        "WHERE employee_id NOT IN (SELECT employee_id FROM Employees)\n",
        "ORDER BY employee_id\n"
      ],
      "metadata": {
        "id": "9IoN0reNjtjj"
      },
      "execution_count": null,
      "outputs": []
    },
    {
      "cell_type": "code",
      "source": [
        "#  Rearrange Products Table\n",
        "\n",
        "SELECT product_id,'store1' AS store, store1 AS price\n",
        "FROM Products\n",
        "WHERE store1 IS NOT NULL\n",
        "\n",
        "UNION\n",
        "\n",
        "SELECT product_id, 'store2' AS store, store2 AS price\n",
        "FROM Products\n",
        "WHERE store2 IS NOT NULL\n",
        "\n",
        "UNION \n",
        "\n",
        "SELECT product_id, 'store3' AS store, store3 AS price\n",
        "FROM Products\n",
        "WHERE store3 IS NOT NULL"
      ],
      "metadata": {
        "id": "cJA0gpXajuSE"
      },
      "execution_count": null,
      "outputs": []
    },
    {
      "cell_type": "code",
      "source": [
        "# Tree Node\n",
        "\n",
        "SELECT id,\n",
        "CASE WHEN p_id IS NULL THEN 'Root'\n",
        "WHEN ((p_id<id) OR (p_id>id)) AND id IN (SELECT p_id FROM Tree) THEN 'Inner'\n",
        "ELSE 'Leaf' \n",
        "END AS type\n",
        "FROM Tree"
      ],
      "metadata": {
        "id": "_mwckHZEkC-L"
      },
      "execution_count": null,
      "outputs": []
    },
    {
      "cell_type": "code",
      "source": [
        "# Second Highest Salary\n",
        "\n",
        "SELECT MAX(salary) as SecondHighestSalary\n",
        "FROM Employee\n",
        "WHERE salary NOT IN (SELECT max(salary) FROM Employee)"
      ],
      "metadata": {
        "id": "dDipAqUEvgfi"
      },
      "execution_count": null,
      "outputs": []
    },
    {
      "cell_type": "code",
      "source": [
        "# Combine Two Tables\n",
        "SELECT p.firstName, p.lastName, a.city, a.state\n",
        "FROM Person as p \n",
        "LEFT JOIN Address as a\n",
        "ON p.personId = a.personId"
      ],
      "metadata": {
        "id": "y9eaaLECxekC"
      },
      "execution_count": null,
      "outputs": []
    },
    {
      "cell_type": "code",
      "source": [
        "# Article Views\n",
        "SELECT DISTINCT author_id as id\n",
        "FROM Views\n",
        "WHERE author_id = viewer_id\n",
        "ORDER BY author_id"
      ],
      "metadata": {
        "id": "uLxvBSKsyOHk"
      },
      "execution_count": null,
      "outputs": []
    },
    {
      "cell_type": "code",
      "source": [
        "# Rising Temperatures\n",
        "SELECT w1.id\n",
        "FROM weather as w1\n",
        "JOIN weather as w2\n",
        "ON datediff(w1.recordDate,w2.recordDate) = 1\n",
        "WHERE w1.temperature > w2.temperature\n"
      ],
      "metadata": {
        "id": "DAeNO0BvD3tG"
      },
      "execution_count": null,
      "outputs": []
    },
    {
      "cell_type": "code",
      "source": [
        "# Sales Person\n",
        "SELECT name\n",
        "FROM salesperson as s\n",
        "WHERE sales_id NOT IN (SELECT sales_id FROM orders as O\n",
        "                       LEFT JOIN Company as C \n",
        "                       ON o.com_id = c.com_id\n",
        "                       WHERE c.name = 'RED')"
      ],
      "metadata": {
        "id": "pFI9k2z1IV4p"
      },
      "execution_count": null,
      "outputs": []
    },
    {
      "cell_type": "markdown",
      "source": [
        "**User Activity for the Past 30 Days**"
      ],
      "metadata": {
        "id": "v7EVUM2FaAot"
      }
    },
    {
      "cell_type": "code",
      "source": [
        "SELECT activity_date as day,\n",
        "COUNT(DISTINCT user_id) as active_users\n",
        "FROM\n",
        "Activity\n",
        "WHERE activity_date > '2019-07-27' - INTERVAL 30 DAY AND activity_date <= '2019-07-27'\n",
        "GROUP BY activity_date"
      ],
      "metadata": {
        "id": "XTjUs5B_aCI_"
      },
      "execution_count": null,
      "outputs": []
    },
    {
      "cell_type": "markdown",
      "source": [
        "**Daily Leads and Partners**"
      ],
      "metadata": {
        "id": "myanjcQJaEUN"
      }
    },
    {
      "cell_type": "code",
      "source": [
        "SELECT date_id, make_name,\n",
        "COUNT(DISTINCT lead_id) AS unique_leads, COUNT(DISTINCT partner_id) AS unique_partners\n",
        "FROM DailySales\n",
        "GROUP BY date_id, make_name\n",
        "ORDER BY make_name, date_id"
      ],
      "metadata": {
        "id": "S-7XPmOhb8Q4"
      },
      "execution_count": null,
      "outputs": []
    },
    {
      "cell_type": "markdown",
      "source": [
        "**Find Followers Count**\n"
      ],
      "metadata": {
        "id": "ForhG-kmcA4r"
      }
    },
    {
      "cell_type": "code",
      "source": [
        "SELECT user_id, \n",
        "COUNT(DISTINCT follower_id) AS followers_count\n",
        "FROM Followers\n",
        "GROUP BY user_id"
      ],
      "metadata": {
        "id": "iiz2GlpwcntJ"
      },
      "execution_count": null,
      "outputs": []
    },
    {
      "cell_type": "markdown",
      "source": [
        "**Customer Placing the Largest Number of Orders**"
      ],
      "metadata": {
        "id": "ddywRTugcrSt"
      }
    },
    {
      "cell_type": "code",
      "source": [
        "SELECT customer_number\n",
        "FROM Orders\n",
        "GROUP BY customer_number\n",
        "ORDER BY COUNT(order_number) DESC\n",
        "LIMIT 1"
      ],
      "metadata": {
        "id": "n5lD4_tNfWzY"
      },
      "execution_count": null,
      "outputs": []
    },
    {
      "cell_type": "markdown",
      "source": [
        "**Game Play Analysis**"
      ],
      "metadata": {
        "id": "JIZjSeWqf5Y4"
      }
    },
    {
      "cell_type": "code",
      "source": [
        "SELECT player_id, MIN(event_date) as first_login\n",
        "FROM Activity\n",
        "GROUP BY player_id"
      ],
      "metadata": {
        "id": "bMSHJheCf8x8"
      },
      "execution_count": null,
      "outputs": []
    },
    {
      "cell_type": "markdown",
      "source": [
        "**The Latest Login in 2020**"
      ],
      "metadata": {
        "id": "pLamC211gqnZ"
      }
    },
    {
      "cell_type": "code",
      "source": [
        "SELECT user_id, MAX(time_stamp) as last_stamp\n",
        "FROM Logins\n",
        "WHERE YEAR(time_stamp) = '2020'\n",
        "GROUP BY user_id"
      ],
      "metadata": {
        "id": "83H1IhsugreQ"
      },
      "execution_count": null,
      "outputs": []
    },
    {
      "cell_type": "markdown",
      "source": [
        "**Find Total Time Spent by Each Employee**"
      ],
      "metadata": {
        "id": "FnA0xhxWgveu"
      }
    },
    {
      "cell_type": "code",
      "source": [
        "SELECT event_day as day, emp_id, SUM(out_time - in_time) as total_time\n",
        "FROM employees\n",
        "GROUP BY event_day, emp_id"
      ],
      "metadata": {
        "id": "qPJoelpyhZiZ"
      },
      "execution_count": null,
      "outputs": []
    },
    {
      "cell_type": "markdown",
      "source": [
        "**Capital Gain/Loss**"
      ],
      "metadata": {
        "id": "jNKFPZX038dS"
      }
    },
    {
      "cell_type": "code",
      "source": [
        "SELECT stock_name,\n",
        "SUM(IF(operation = 'Buy',price * (-1),price)) as capital_gain_loss\n",
        "FROM Stocks\n",
        "GROUP BY stock_name"
      ],
      "metadata": {
        "id": "3kwW4K7hhbaZ"
      },
      "execution_count": null,
      "outputs": []
    },
    {
      "cell_type": "markdown",
      "source": [
        "**Top Travellers**"
      ],
      "metadata": {
        "id": "RDPuXMsE4DZJ"
      }
    },
    {
      "cell_type": "code",
      "source": [
        "SELECT u.name,\n",
        "CASE WHEN r.distance IS NULL THEN 0 \n",
        "     WHEN r.distance IS NOT NULL THEN SUM(r.distance)\n",
        "     END AS travelled_distance\n",
        "FROM Users As u LEFT JOIN Rides As r\n",
        "ON u.id = r.user_id\n",
        "GROUP BY r.user_id\n",
        "ORDER BY SUM(r.distance) DESC, u.name ASC"
      ],
      "metadata": {
        "id": "_SwSHpN-83gZ"
      },
      "execution_count": null,
      "outputs": []
    },
    {
      "cell_type": "markdown",
      "source": [
        "**Duplicate Emails**"
      ],
      "metadata": {
        "id": "8xODHTu088yz"
      }
    },
    {
      "cell_type": "code",
      "source": [
        "SELECT email \n",
        "FROM Person\n",
        "GROUP BY email\n",
        "HAVING COUNT(email) > 1"
      ],
      "metadata": {
        "id": "nnY_Le3iEs9t"
      },
      "execution_count": null,
      "outputs": []
    },
    {
      "cell_type": "markdown",
      "source": [
        "**Actors and Directors Who Cooperated At Least Three Times**"
      ],
      "metadata": {
        "id": "_SrEe7G5EvSa"
      }
    },
    {
      "cell_type": "code",
      "source": [
        "SELECT actor_id, director_id\n",
        "FROM ActorDirector\n",
        "GROUP BY actor_id, director_id\n",
        "HAVING COUNT(timestamp)>=3\n"
      ],
      "metadata": {
        "id": "7aPwpgrUP3Go"
      },
      "execution_count": null,
      "outputs": []
    },
    {
      "cell_type": "markdown",
      "source": [
        "**Bank Account Summary II**"
      ],
      "metadata": {
        "id": "EoAJvZMwRYS2"
      }
    },
    {
      "cell_type": "code",
      "source": [
        "SELECT u.name, SUM(t.amount) as balance\n",
        "FROM Users As u JOIN Transactions As t\n",
        "ON u.account = t.account\n",
        "GROUP BY u.account\n",
        "HAVING SUM(t.amount) > 10000"
      ],
      "metadata": {
        "id": "MT2IO7eXRZHh"
      },
      "execution_count": null,
      "outputs": []
    },
    {
      "cell_type": "markdown",
      "source": [
        "**Sales Analysis III**"
      ],
      "metadata": {
        "id": "rVSzmj8wRbLu"
      }
    },
    {
      "cell_type": "code",
      "source": [
        "SELECT p.product_id,p.product_name\n",
        "FROM Product as p JOIN Sales as s\n",
        "ON p.product_id = s.product_id\n",
        "GROUP BY p.product_id\n",
        "HAVING MIN(sale_date) >= '2019-01-01'\n",
        "AND MAX(sale_date) < '2019-03-31'"
      ],
      "metadata": {
        "id": "7diCgN5UXZqx"
      },
      "execution_count": null,
      "outputs": []
    }
  ]
}