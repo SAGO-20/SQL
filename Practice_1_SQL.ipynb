{
  "nbformat": 4,
  "nbformat_minor": 0,
  "metadata": {
    "colab": {
      "name": "Practice_1_SQL.ipynb",
      "provenance": [],
      "authorship_tag": "ABX9TyNTmskCP9up4Gt/Qf1dnwe2"
    },
    "kernelspec": {
      "name": "python3",
      "display_name": "Python 3"
    },
    "language_info": {
      "name": "python"
    }
  },
  "cells": [
    {
      "cell_type": "markdown",
      "source": [
        "I am using SQLZOO for practice.([Exercise](https://sqlzoo.net/wiki/More_JOIN_operations)).\n",
        "\n",
        "I will be using Movie Database.([Database](https://sqlzoo.net/wiki/More_details_about_the_database.))\n"
      ],
      "metadata": {
        "id": "hEcj8N8EcFh3"
      }
    },
    {
      "cell_type": "markdown",
      "source": [
        "**List the films where the yr is 1962 [Show id, title]**"
      ],
      "metadata": {
        "id": "YuXQh1Ucq2vQ"
      }
    },
    {
      "cell_type": "code",
      "source": [
        "SELECT id, title\n",
        "FROM movie\n",
        "WHERE yr = 1962"
      ],
      "metadata": {
        "id": "RDU4r2ITdomG"
      },
      "execution_count": null,
      "outputs": []
    },
    {
      "cell_type": "markdown",
      "source": [
        "**When was Citizen Kane released?**"
      ],
      "metadata": {
        "id": "mMGsYBKHq0zz"
      }
    },
    {
      "cell_type": "code",
      "source": [
        "SELECT yr \n",
        "FROM movie \n",
        "WHERE title = 'Citizen Kane'"
      ],
      "metadata": {
        "id": "xRIN5JmPd1N9"
      },
      "execution_count": null,
      "outputs": []
    },
    {
      "cell_type": "markdown",
      "source": [
        "**List all of the Star Trek movies, include the id, title and yr (all of these movies include the words Star Trek in the title). Order results by year.**"
      ],
      "metadata": {
        "id": "IAtx9mpGrXQr"
      }
    },
    {
      "cell_type": "code",
      "source": [
        "SELECT id, title, yr\n",
        "FROM movie\n",
        "WHERE title LIKE '%Star Trek%'\n",
        "ORDER BY yr"
      ],
      "metadata": {
        "id": "sTEjVZ9meCCx"
      },
      "execution_count": null,
      "outputs": []
    },
    {
      "cell_type": "markdown",
      "source": [
        "**What id number does the actor 'Glenn Close' have?**"
      ],
      "metadata": {
        "id": "JAcWsYCLrjvd"
      }
    },
    {
      "cell_type": "code",
      "source": [
        "SELECT id\n",
        "FROM actor\n",
        "WHERE name = 'Glenn Close'"
      ],
      "metadata": {
        "id": "MJK2uyNglTIu"
      },
      "execution_count": null,
      "outputs": []
    },
    {
      "cell_type": "markdown",
      "source": [
        "**What is the id of the film 'Casablanca'**"
      ],
      "metadata": {
        "id": "-fRdCdEfrmQY"
      }
    },
    {
      "cell_type": "code",
      "source": [
        "SELECT id\n",
        "FROM movie\n",
        "WHERE title = 'Casablanca'"
      ],
      "metadata": {
        "id": "BPyoV3nplpmo"
      },
      "execution_count": null,
      "outputs": []
    },
    {
      "cell_type": "markdown",
      "source": [
        "**Obtain the cast list for 'Casablanca'.Use movieid from the previous question**"
      ],
      "metadata": {
        "id": "xNpT73-lruS7"
      }
    },
    {
      "cell_type": "code",
      "source": [
        "SELECT actor.name\n",
        "FROM actor\n",
        "JOIN casting\n",
        "ON casting.actorid = actor.id\n",
        "WHERE casting.movieid = 27;"
      ],
      "metadata": {
        "id": "gCp2B9-5metA"
      },
      "execution_count": null,
      "outputs": []
    },
    {
      "cell_type": "markdown",
      "source": [
        "**Obtain the cast list for the film 'Alien'**"
      ],
      "metadata": {
        "id": "xQAdgAs-syVv"
      }
    },
    {
      "cell_type": "code",
      "source": [
        "SELECT name\n",
        "FROM actor\n",
        "WHERE id IN (SELECT actorid\n",
        "             FROM casting\n",
        "             WHERE movieid IN (SELECT id\n",
        "                               FROM movie\n",
        "                               WHERE title = 'Alien'))"
      ],
      "metadata": {
        "id": "fZHy_fkts3NK"
      },
      "execution_count": null,
      "outputs": []
    },
    {
      "cell_type": "markdown",
      "source": [
        "**List the films in which 'Harrison Ford' has appeared**"
      ],
      "metadata": {
        "id": "E0xAfR0QtXbm"
      }
    },
    {
      "cell_type": "code",
      "source": [
        "SELECT movie.title\n",
        "FROM actor\n",
        "JOIN casting\n",
        "ON actor.id = casting.actorid\n",
        "JOIN movie\n",
        "ON movie.id = casting.movieid\n",
        "WHERE actor.name = 'Harrison Ford'"
      ],
      "metadata": {
        "id": "OjjIl6lDtb78"
      },
      "execution_count": null,
      "outputs": []
    },
    {
      "cell_type": "markdown",
      "source": [
        "**List the films where 'Harrison Ford' has appeared - but not in the starring role.**"
      ],
      "metadata": {
        "id": "1ItmbuNX6E4J"
      }
    },
    {
      "cell_type": "code",
      "source": [
        "SELECT title\n",
        "FROM movie\n",
        "JOIN casting \n",
        "ON movie.id = casting.movieid\n",
        "JOIN actor\n",
        "ON actor.id = casting.actorid\n",
        "WHERE actor.name = 'Harrison Ford' AND casting.ord != 1"
      ],
      "metadata": {
        "id": "s2poiQox6LwA"
      },
      "execution_count": null,
      "outputs": []
    },
    {
      "cell_type": "markdown",
      "source": [
        "**List the films together with the leading star for all 1962 films.**"
      ],
      "metadata": {
        "id": "1JyUZ18G9S1K"
      }
    },
    {
      "cell_type": "code",
      "source": [
        "SELECT movie.title, actor.name\n",
        "FROM movie\n",
        "JOIN casting\n",
        "ON movie.id = casting.movieid\n",
        "JOIN actor\n",
        "ON actor.id = casting.actorid\n",
        "WHERE movie.yr = 1962 AND casting.ord = 1"
      ],
      "metadata": {
        "id": "rX4TkeZH9XHQ"
      },
      "execution_count": null,
      "outputs": []
    },
    {
      "cell_type": "markdown",
      "source": [
        "**Which were the busiest years for 'Rock Hudson', show the year and the number of movies he made each year for any year in which he made more than 2 movies.**"
      ],
      "metadata": {
        "id": "2mmoMud8h6VI"
      }
    },
    {
      "cell_type": "code",
      "source": [
        "SELECT yr, COUNT(title)\n",
        "FROM movie\n",
        "JOIN casting \n",
        "ON movie.id = casting.movieid\n",
        "JOIN actor\n",
        "ON actor.id = casting.actorid\n",
        "WHERE name = 'Rock Hudson'\n",
        "GROUP BY yr\n",
        "HAVING COUNT(title) > 2"
      ],
      "metadata": {
        "id": "6KXWE1ech5hr"
      },
      "execution_count": null,
      "outputs": []
    },
    {
      "cell_type": "markdown",
      "source": [
        "**List the film title and the leading actor for all of the films 'Julie Andrews' played in.**"
      ],
      "metadata": {
        "id": "OmQlNK5xf4oJ"
      }
    },
    {
      "cell_type": "code",
      "source": [
        "SELECT movie.title, name\n",
        "FROM actor \n",
        "JOIN casting\n",
        "ON casting.actorid = actor.id\n",
        "JOIN movie\n",
        "ON movie.id = casting.movieid\n",
        "WHERE ord = 1 AND movieid IN (SELECT movieid\n",
        "                              FROM casting\n",
        "                              JOIN actor\n",
        "                              ON actor.id = casting.actorid\n",
        "                              WHERE name = 'Julie Andrews')"
      ],
      "metadata": {
        "id": "jWxNmR3Bf5F8"
      },
      "execution_count": null,
      "outputs": []
    },
    {
      "cell_type": "markdown",
      "source": [
        "**Obtain a list, in alphabetical order, of actors who've had at least 15 starring roles.**"
      ],
      "metadata": {
        "id": "c2CHIHDuHNVi"
      }
    },
    {
      "cell_type": "code",
      "source": [
        "SELECT name\n",
        "FROM actor\n",
        "JOIN casting\n",
        "ON actorid = actor.id\n",
        "WHERE ord = 1\n",
        "GROUP BY actor.name\n",
        "HAVING COUNT(ord) >= 15"
      ],
      "metadata": {
        "id": "ipszlx_YJkw_"
      },
      "execution_count": null,
      "outputs": []
    },
    {
      "cell_type": "markdown",
      "source": [
        "**List the films released in the year 1978 ordered by the number of actors in the cast, then by title.**"
      ],
      "metadata": {
        "id": "7stGSAaCL2PQ"
      }
    },
    {
      "cell_type": "code",
      "source": [
        "SELECT title, COUNT(casting.actorid)\n",
        "FROM movie\n",
        "JOIN casting\n",
        "ON movie.id = casting.movieid\n",
        "WHERE yr = 1978\n",
        "GROUP BY title\n",
        "ORDER BY COUNT(casting.actorid) DESC, movie.title"
      ],
      "metadata": {
        "id": "VoEzDs0qL1Jb"
      },
      "execution_count": null,
      "outputs": []
    },
    {
      "cell_type": "markdown",
      "source": [
        "**List all the people who have worked with 'Art Garfunkel'.**"
      ],
      "metadata": {
        "id": "HSDUmPTVVzLQ"
      }
    },
    {
      "cell_type": "code",
      "source": [
        "SELECT b.name\n",
        "FROM (SELECT *\n",
        "      FROM actor\n",
        "      JOIN casting\n",
        "      ON actorid = actor.id\n",
        "      WHERE name = 'Art Garfunkel') as a\n",
        "JOIN (SELECT *\n",
        "      FROM actor\n",
        "      JOIN casting\n",
        "      ON actorid = actor.id\n",
        "      WHERE name != 'Art Garfunkel') as b\n",
        "ON a.movieid = b.movieid\n",
        "\n"
      ],
      "metadata": {
        "id": "d0P-AsAAVxxg"
      },
      "execution_count": null,
      "outputs": []
    }
  ]
}