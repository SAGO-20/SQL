{
  "nbformat": 4,
  "nbformat_minor": 0,
  "metadata": {
    "colab": {
      "name": "Practice_3_SQL.ipynb",
      "provenance": [],
      "authorship_tag": "ABX9TyOFvF4U2rDPI7J6+J0L9T3i"
    },
    "kernelspec": {
      "name": "python3",
      "display_name": "Python 3"
    },
    "language_info": {
      "name": "python"
    }
  },
  "cells": [
    {
      "cell_type": "markdown",
      "source": [
        "# UK General Election"
      ],
      "metadata": {
        "id": "LRibS8y99TL7"
      }
    },
    {
      "cell_type": "markdown",
      "source": [
        "**Show the lastName, party and votes for the constituency 'S14000024' in 2017**"
      ],
      "metadata": {
        "id": "oZpQgL2u-eeI"
      }
    },
    {
      "cell_type": "code",
      "source": [
        "SELECT lastName, party, votes\n",
        "FROM ge\n",
        "WHERE constituency = 'S14000024' AND yr = '2017'\n",
        "ORDER BY votes DESC"
      ],
      "metadata": {
        "id": "EW6N-l3J9WbD"
      },
      "execution_count": null,
      "outputs": []
    },
    {
      "cell_type": "markdown",
      "source": [
        "**Show the party and RANK for constituency S14000024 in 2017. List the output by party**"
      ],
      "metadata": {
        "id": "oa2Unm34-je3"
      }
    },
    {
      "cell_type": "code",
      "source": [
        "SELECT party, votes,\n",
        "       RANK() OVER(ORDER BY votes DESC) as pos\n",
        "FROM ge\n",
        "WHERE constituency = 'S14000024' AND yr = 2017\n",
        "ORDER BY party"
      ],
      "metadata": {
        "id": "1lPMAVRb_80k"
      },
      "execution_count": null,
      "outputs": []
    },
    {
      "cell_type": "markdown",
      "source": [
        "**Use PARTITION to show the ranking of each party in S14000021 in each year. Include yr, party, votes and ranking (the party with the most votes is 1)**"
      ],
      "metadata": {
        "id": "SfwGi-MyADqV"
      }
    },
    {
      "cell_type": "code",
      "source": [
        "SELECT yr, party, votes, \n",
        "RANK() OVER (PARTITION BY yr ORDER BY votes DESC) as posn\n",
        "FROM ge\n",
        "WHERE constituency = 'S14000021'"
      ],
      "metadata": {
        "id": "mIchBfqWBFNA"
      },
      "execution_count": null,
      "outputs": []
    },
    {
      "cell_type": "markdown",
      "source": [
        "**Use PARTITION BY constituency to show the ranking of each party in Edinburgh in 2017. Order your results so the winners are shown first, then ordered by constituency**"
      ],
      "metadata": {
        "id": "oke9-6DfBKwI"
      }
    },
    {
      "cell_type": "code",
      "source": [
        "SELECT constituency, party, votes,\n",
        "RANK() OVER(PARTITION BY constituency ORDER BY votes DESC) as posn\n",
        "FROM ge\n",
        "WHERE constituency BETWEEN 'S14000021' AND 'S14000026' AND yr = '2017'\n",
        "ORDER BY posn, constituency"
      ],
      "metadata": {
        "id": "Tcv3eQcXBQ61"
      },
      "execution_count": null,
      "outputs": []
    },
    {
      "cell_type": "markdown",
      "source": [
        "**Show the parties that won for each Edinburgh constituency in 2017**"
      ],
      "metadata": {
        "id": "CMqhdQtmDNB8"
      }
    },
    {
      "cell_type": "code",
      "source": [
        "SELECT constituency, party FROM\n",
        "(SELECT constituency, party, votes,\n",
        "RANK() OVER(PARTITION BY constituency ORDER BY votes DESC) as posn\n",
        "FROM ge\n",
        "WHERE  constituency BETWEEN 'S14000021' AND 'S14000026' AND yr = '2017') as table1\n",
        "WHERE posn = 1\n"
      ],
      "metadata": {
        "id": "ciF5U2OsDR5N"
      },
      "execution_count": null,
      "outputs": []
    },
    {
      "cell_type": "markdown",
      "source": [
        "**Show how many seats for each party in Scotland in 2017**"
      ],
      "metadata": {
        "id": "4Sb4Vm1wHiMn"
      }
    },
    {
      "cell_type": "code",
      "source": [
        "SELECT party, COUNT(constituency) FROM\n",
        "(SELECT party, constituency, votes,\n",
        "RANK() OVER(PARTITION BY constituency ORDER BY votes DESC) as posn\n",
        "FROM ge\n",
        "WHERE constituency LIKE '%S%' AND yr = 2017) AS table1\n",
        "WHERE posn = 1\n",
        "GROUP BY party"
      ],
      "metadata": {
        "id": "qk5WRVdxHlX-"
      },
      "execution_count": null,
      "outputs": []
    }
  ]
}